{
 "cells": [
  {
   "cell_type": "markdown",
   "metadata": {
    "slideshow": {
     "slide_type": "slide"
    }
   },
   "source": [
    "# The interaction between simulation and scattering \n",
    "\n",
    "<h2> <a href=\"https://arm61.github.io\">A. R. McCluskey</a>,<sup>a,b</sup> \n",
    "<a href=\"https://symmy596.github.io\">A. R. Symington</a>,<sup>a</sup> \n",
    "<a href=\"http://people.bath.ac.uk/rjg20\">J. Grant</a>,<sup>c</sup>\n",
    "<a href=\"http://www.analysisandsynthesis.com/\">B. J. Morgan</a>,<sup>a</sup> \n",
    "<a href=\"https://people.bath.ac.uk/chske/\">K. J. Edler</a>,<sup>a</sup> \n",
    "<a href=\"https://people.bath.ac.uk/chsscp/\">S. C. Parker</a><sup>a</sup></h2>\n",
    "\n",
    "<h4> <sup>a</sup> Department of Chemistry, University of Bath, Claverton Down, Bath, BA2 7AY, UK. <br><sup>b</sup> Diamond Light Source, Diamond House, Rutherford Appleton Laboratory, Harwell Oxford, OX11 0DE, UK. <br><sup>c</sup> Computering Services, University of Bath, Claverton Down, Bath, BA2 7AY, UK.  </h4>\n",
    "\n",
    "**Classical molecular dynamics** (MD) is one of the most commonly applied techniques in computational chemistry.\n",
    "In particular for the study of complex systems such as proteins, polymesr, and battery materials [1-3].\n",
    "These applications mean that the use of MD simulations is becoming popular to aid in the analysis of data obtained from elastic scattering instruments. \n",
    "However, many experimentalists hope to use molecular dynamics simulation as a black box. \n",
    "\n",
    "The aim of this tutorial is to **introduce users of elastic scattering techniques**, such as small angle scattering or diffraction, to classical molecular dynamics (MD) simulation.\n",
    "We hope this that the opportunity to more **fully understand the complexity of MD simulation** will engage experimentalists to interact more closely with the simulations they hope to utilise.  \n",
    "\n",
    "We will introduce classical MD simulation, in terms of a two-dimensional argon system, using the open-source package pylj [4], and show how it is possible to determine radially averaged scattering profiles **directly from the simulation** (using the Debye equation [5]).\n",
    "\n",
    "This will in **no way** be a complete course on molecular dynamics.\n",
    "There are many textbooks on the subject that offer a more detailed pictuce of the technique, and computational modelling in general [6-10]. \n",
    "However, the focus of this work is to offer **a general introduction to those from the scattering community**."
   ]
  },
  {
   "cell_type": "markdown",
   "metadata": {
    "slideshow": {
     "slide_type": "slide"
    }
   },
   "source": [
    "## Prerequisites\n",
    "\n",
    "In order to complete the tutorial you will need:\n",
    "* Jupyter Notebooks, available as component of [anaconda](https://www.anaconda.com/download/)\n",
    "* Some basic understanding or familiarity with the Python programming language\n",
    "* An understanding of undergraduate chemistry/physics, including the appropriate level of mathematics"
   ]
  },
  {
   "cell_type": "markdown",
   "metadata": {},
   "source": [
    "## How to use\n",
    "\n",
    "This tutorial is designed to be interactive. \n",
    "All of the text in the `code block` cells (see below) can be run in a Jupyter notebook. \n",
    "It is not always necessary to write the code out into your own notebook, although it is suggested and should be carried out in the later exercises that use pylj."
   ]
  },
  {
   "cell_type": "code",
   "execution_count": 1,
   "metadata": {},
   "outputs": [
    {
     "name": "stdout",
     "output_type": "stream",
     "text": [
      "This is an example of a code block\n"
     ]
    }
   ],
   "source": [
    "print('This is an example of a code block')"
   ]
  },
  {
   "cell_type": "markdown",
   "metadata": {},
   "source": [
    "I would suggest that your do not copy and paste the code block cells into your own Jupyter notebook. \n",
    "Writing the code out by hand is a great way to better understand the code that you work with. "
   ]
  },
  {
   "cell_type": "markdown",
   "metadata": {},
   "source": [
    "## Information: Code efficiency\n",
    "\n",
    "Please be aware that the Python code written in this tutorial is optimised to understandability and therefore might not be the most efficient implementation of particular algorithms.\n",
    "However, we have endevoured to be accurate to as many aspects of *real* molecular dynamics algorithms as possible."
   ]
  },
  {
   "cell_type": "markdown",
   "metadata": {},
   "source": [
    "## Installing software\n",
    "\n",
    "Before we can start to learn about molecular dynamics (MD) simulation, we need to ensure that our computer is ready so that you can play along, and allow for an interactive learning experience.\n",
    "\n",
    "1. Download and install [anaconda](https://www.anaconda.org/download/), ideally choose the Python 3.x version. \n",
    "\n",
    "2. Having installed anaconda, it is now standard practice to create a `conda` environment to run this tutorial in. To do so, open a Terminal window (macOS or linux) or the anaconda prompt (Windows) and run the following command. \n",
    "\n",
    "    ```\n",
    "    conda create -n tutorial python\n",
    "    ```\n",
    "   \n",
    "3. Next we must access the environment using the following command.\n",
    "    ```\n",
    "    source activate tutorial\n",
    "    ```\n",
    "\n",
    "4. Then install some packages for necessary for the tutorial.\n",
    "    ```\n",
    "    pip install pylj\n",
    "    \n",
    "    conda install nb_conda \n",
    "    \n",
    "    conda install -c anaconda scipy\n",
    "    ```\n",
    "\n",
    "5. Having set up the `conda` enivornment, all that is left to do in terms of getting started is to launch the Notebook.\n",
    "    ```\n",
    "    jupyter notebook\n",
    "    ```\n",
    "    \n",
    "This means that you can now navigate within your files and open a new, clean Jupyter Notebook for use alongside this course. "
   ]
  },
  {
   "cell_type": "markdown",
   "metadata": {},
   "source": [
    "## Schedule\n",
    "This course consists of six lessons which introduce classical simulation, show how to parameterise you potential model, introduce molecular dynamics methods before finally showing how molecular dynamics and elastic scattering may interact. \n",
    "\n",
    "| Episode | Description |\n",
    "|---|---|\n",
    "| [Classical Methods](./01_episode.ipynb) | Interacting spheres |\n",
    "| [Parameterisation](./02_episode.ipynb) | What numbers where? |\n",
    "| [Molecular Dynamics](./03_episode.ipynb) | Getting the ball rolling |\n",
    "| [Necessary Simplifactions](./04_episode.ipynb) | Hard maths is hard |\n",
    "| [Using pylj](./05_episode.ipynb) | An *easy* MD software |\n",
    "| [Calculating Scattering](./06_episode.ipynb) | Something for nothing |"
   ]
  },
  {
   "cell_type": "markdown",
   "metadata": {
    "slideshow": {
     "slide_type": "slide"
    }
   },
   "source": [
    "## References\n",
    "\n",
    "1. M. Karplus and J. A. McCammon, (2012). Nat. Struct. Mol. Biol., 9, 646-652. [10.1038/nsb0902-646](https://doi.org/10.1038/nsb0902-646)\n",
    "2. K. Binder, (1995). *Monte Carlo and Molecular Dynamics Simulations in Polymer Science*. Oxford, UK. Oxford University Press\n",
    "3. S.-P. Kim, A. C. T. van Duin, and V. B. Shenoy, (2011). J. Power Sources, 196(20), 8590-8597. [10.1016/j.jpowsour.2011.05.061](https://doi.org/10.1016/j.jpowsour.2011.05.061)\n",
    "4. A. R. McCluskey, B. J. Morgan, K. J. Edler, and S. C. Parker, (2018). *JOSE*, 1(2), 19, [10.21105/jose.00019](https://doi.org/10.21105/jose.00019)\n",
    "5. P. J. W. Debye, (1915). *Ann. Phys*. 351, 809–823, [10.1002/andp.19153510606](https:/doi.org/10.1002/andp.19153510606)\n",
    "6. J. Harvey, (2017). *Computational Chemistry*. Oxford, UK. Oxford University Press\n",
    "7. G. H. Grant and W. G. Richards, (1995). *Computational Chemistry*. Oxford, UK. Oxford University Press\n",
    "8. A. R. Leach, (1996). *Molecular modelling: principles and applications*. Harlow, UK. Longman\n",
    "9. D. Frenkel and B. Smith, (2002). *Understanding molecular simulation: from algorithms to applications*. San Diego, USA. Academic Press\n",
    "10. M. P. Allen and D. J. Tildesley, (1987). *Computer simulation of liquids*. Oxford, UK. Clarendon Press."
   ]
  },
  {
   "cell_type": "code",
   "execution_count": null,
   "metadata": {},
   "outputs": [],
   "source": []
  }
 ],
 "metadata": {
  "kernelspec": {
   "display_name": "Python [default]",
   "language": "python",
   "name": "python3"
  },
  "language_info": {
   "codemirror_mode": {
    "name": "ipython",
    "version": 3
   },
   "file_extension": ".py",
   "mimetype": "text/x-python",
   "name": "python",
   "nbconvert_exporter": "python",
   "pygments_lexer": "ipython3",
   "version": "3.7.0"
  }
 },
 "nbformat": 4,
 "nbformat_minor": 2
}
