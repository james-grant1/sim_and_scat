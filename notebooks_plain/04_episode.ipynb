{
 "cells": [
  {
   "cell_type": "markdown",
   "metadata": {
    "slideshow": {
     "slide_type": "slide"
    }
   },
   "source": [
    "# Necessary simplifications"
   ]
  },
  {
   "cell_type": "markdown",
   "metadata": {
    "slideshow": {
     "slide_type": "slide"
    }
   },
   "source": [
    "## Overview\n",
    "\n",
    "**Questions**\n",
    "- Can I speed up MD?\n",
    "\n",
    "**Objectives**\n",
    "- Become familiar with the cut-off and periodic boundary condition as a method to speed up MD simulation\n",
    "- Understand how to implement such simplifications in the MD"
   ]
  },
  {
   "cell_type": "markdown",
   "metadata": {
    "slideshow": {
     "slide_type": "slide"
    }
   },
   "source": [
    "Molecular dynamics (MD) is a powerful simulation technique in it's own right. \n",
    "However, in order to apply MD to practical simulations (e.g. of **real** systems), some simplifications must be made.\n",
    "\n",
    "## Cut-offs\n",
    "\n",
    "If we plot the Lennard-Jones potential all the way out to 15 Å, it will look something like this."
   ]
  },
  {
   "cell_type": "code",
   "execution_count": 1,
   "metadata": {},
   "outputs": [
    {
     "data": {
      "image/png": "[encoded data removed]",
      "text/plain": [
       "<Figure size 576x360 with 1 Axes>"
      ]
     },
     "metadata": {
      "needs_background": "light"
     },
     "output_type": "display_data"
    }
   ],
   "source": [
    "%matplotlib inline\n",
    "import numpy as np\n",
    "import matplotlib.pyplot as plt\n",
    "\n",
    "def lj(rij, a, b):\n",
    "    \"\"\"\n",
    "    Implementation of the Lennard-Jones potential \n",
    "    to calculate the energy of the interaction.\n",
    "    \n",
    "    Parameters\n",
    "    ----------\n",
    "    rij: float\n",
    "        Distance between two particles\n",
    "    a: float \n",
    "        A parameter for interaction\n",
    "    b: float \n",
    "        B parameter for interaction\n",
    "    \n",
    "    Returns\n",
    "    -------\n",
    "    float\n",
    "        Energy of the interaction.\n",
    "    \"\"\"\n",
    "    return a / np.power(rij, 12) - b / np.power(rij, 6)\n",
    "\n",
    "r = np.linspace(3e-10, 15e-10, 100)\n",
    "fig = plt.figure(figsize=(8, 5))\n",
    "ax = fig.add_subplot(111)\n",
    "ax.plot(r, lj(r, 1.363e-134, 9.273e-78))\n",
    "ax.set_xlabel(r'$r_{ij}$/m')\n",
    "ax.set_ylabel(r'$E$/J')\n",
    "plt.show()"
   ]
  },
  {
   "cell_type": "markdown",
   "metadata": {},
   "source": [
    "It is clear that as the particles move further away from each other, their interaction energy tends towards zero. \n",
    "The concept of a cut-off suggests that if two particles are found to be very far apart, there is no need to calculate thh energy/force. \n",
    "Instead the value is simply taken as 0,\n",
    "\n",
    "$$       E(r_{ij})=\\left\\{\n",
    "  \\begin{array}{@{}ll@{}}\n",
    "    \\dfrac{A}{r_{ij}^{12}} - \\dfrac{B}{r_{ij}^6}, & \\text{if}\\ a<15\\text{ Å} \\\\\n",
    "    0, & \\text{otherwise.}\n",
    "  \\end{array}\\right.\n",
    "$$\n",
    "\n",
    "This saves significant computation time, as power relationships (e.g. power-12 or power-6) are vey computationally expensive to calculate. \n",
    "\n",
    "This code below shows a modification of the Lennard-Jones potential that accounts for this cut-off."
   ]
  },
  {
   "cell_type": "code",
   "execution_count": 2,
   "metadata": {},
   "outputs": [],
   "source": [
    "def lj(rij, a, b, force, cutoff):\n",
    "    \"\"\"\n",
    "    Implementation of the Lennard-Jones potential \n",
    "    to calculate either the energy or the force\n",
    "    which is considerate of the cut-off.\n",
    "    \n",
    "    Parameters\n",
    "    ----------\n",
    "    rij: float\n",
    "        Distance between two particles\n",
    "    a: float \n",
    "        A parameter for interaction\n",
    "    b: float \n",
    "        B parameter for interaction\n",
    "    force: bool\n",
    "        If true the force will be determined\n",
    "    cutoff: float\n",
    "        The distance after which the interaction \n",
    "        is ignored\n",
    "    \n",
    "    Returns\n",
    "    -------\n",
    "    float\n",
    "        Either the energy or the force of the interaction.\n",
    "    \"\"\"\n",
    "    if rij < cutoff:\n",
    "        if force:\n",
    "            return 12 * a / np.power(rij, 13) - 6 * b / np.power(rij, 7)\n",
    "        else:\n",
    "            return a / np.power(rij, 12) - b / np.power(rij, 6)\n",
    "    else:\n",
    "        return 0"
   ]
  },
  {
   "cell_type": "markdown",
   "metadata": {},
   "source": [
    "## Periodic boundary conditions\n",
    "\n",
    "Even with cut-offs, it is still not straight-forward to design a large enough simulation cell to represent the bulk behaviour of liquids or solids in a physically realistic way. \n",
    "For example, what happens when the atoms interact with the walls of the cell? \n",
    "This is dealt with using **periodic boundary conditions**, these state that the cell being simulated is part of an infinite number of identical cells arranged in a lattice. "
   ]
  },
  {
   "cell_type": "markdown",
   "metadata": {},
   "source": [
    "<center>\n",
    "    <br>\n",
    "    <img src=\"../images/pbc.png\" width=\"300px\">\n",
    "    <i>Figure 3. A two-dimensional example of a periodic cell.</i>\n",
    "    <br>\n",
    "</center>"
   ]
  },
  {
   "cell_type": "markdown",
   "metadata": {},
   "source": [
    "When a particle reaches the cell wall it moves into the adjecent cell, and since all the cells are identical, it appears on the other side. \n",
    "The code below modifies the `update_pos` and `get_acceleration` functions from the previous lesson to account for the periodic boundary condition."
   ]
  },
  {
   "cell_type": "code",
   "execution_count": 30,
   "metadata": {},
   "outputs": [],
   "source": [
    "mass_of_argon = 39.948 # amu\n",
    "mass_of_argon_kg = mass_of_argon * 1.6605e-27\n",
    "\n",
    "def update_pos(x, v, a, dt, box_length):\n",
    "    \"\"\"\n",
    "    Update the particle positions accounting for the \n",
    "    periodic boundary condition.\n",
    "    \n",
    "    Parameters\n",
    "    ----------\n",
    "    x: ndarray of floats\n",
    "        The positions of the particles in a single dimension\n",
    "    v: ndarray of floats\n",
    "        The velocities of the particles in a single dimension\n",
    "    a: ndarray of floats\n",
    "        The accelerations of the particles in a single dimension\n",
    "    dt: float\n",
    "        The timestep length\n",
    "    box_length: float \n",
    "        The size of the periodic cell\n",
    "    \n",
    "    Returns\n",
    "    -------\n",
    "    ndarray of floats:\n",
    "        New positions of the particles in a single dimension\n",
    "    \"\"\"\n",
    "    new_pos = np.zeros_like(x)\n",
    "    for i in range(x.size):\n",
    "        new_pos[i] = x[i] + v[i] * dt + 0.5 * a[i] * dt * dt\n",
    "        new_pos[i] = new_pos[i] % box_length\n",
    "    return new_pos\n",
    "\n",
    "def get_accelerations(positions, box_length, cutoff):\n",
    "    \"\"\"\n",
    "    Calculate the acceleration on each particle as a \n",
    "    result of each other particle. \n",
    "    \n",
    "    Parameters\n",
    "    ----------\n",
    "    positions: ndarray of floats\n",
    "        The positions, in a single dimension, for all\n",
    "        of the particles\n",
    "    box_length: float \n",
    "        The size of the periodic cell\n",
    "    cutoff: float\n",
    "        The distance after which the interaction \n",
    "        is ignored\n",
    "        \n",
    "    Returns\n",
    "    -------\n",
    "    ndarray of floats\n",
    "        The acceleration on each particle\n",
    "    \"\"\"\n",
    "    rx = np.zeros((positions.size, positions.size))\n",
    "    accelerationx = np.zeros((positions.size, positions.size))\n",
    "    for i in range(0, positions.size):\n",
    "        for j in range(0, positions.size):\n",
    "            if i != j:\n",
    "                rx = positions[j] - positions[i]\n",
    "                rmag = np.sqrt(rx * rx)\n",
    "                rmag = rmag % box_length\n",
    "                force = lj(rmag, 1.363e-134, 9.273e-78, True, cutoff)\n",
    "                forcex = force * rx / rmag\n",
    "                accelerationx[i, j] = forcex / mass_of_argon_kg\n",
    "            else:\n",
    "                accelerationx[i, j] = 0\n",
    "    return np.sum(accelerationx, axis=0)"
   ]
  },
  {
   "cell_type": "markdown",
   "metadata": {},
   "source": [
    "This means that we can use these new functions in our molecular dynamics simulation built previously. \n",
    "Note that it is common practice for very small boxes to use a cut off of half the simulation cell. "
   ]
  },
  {
   "cell_type": "code",
   "execution_count": 31,
   "metadata": {},
   "outputs": [
    {
     "data": {
      "image/png": "[encoded data removed]",
      "text/plain": [
       "<Figure size 576x360 with 1 Axes>"
      ]
     },
     "metadata": {
      "needs_background": "light"
     },
     "output_type": "display_data"
    }
   ],
   "source": [
    "from scipy.constants import Boltzmann\n",
    "\n",
    "def update_velo(v, a, a1, dt):\n",
    "    \"\"\"\n",
    "    Update the particle velocities.\n",
    "    \n",
    "    Parameters\n",
    "    ----------\n",
    "    v: ndarray of floats\n",
    "        The velocities of the particles in a single dimension\n",
    "    a: ndarray of floats\n",
    "        The accelerations of the particles in a single dimension \n",
    "        at the previous timestep\n",
    "    a1: ndarray of floats\n",
    "        The accelerations of the particles in a single dimension\n",
    "        at the current timestep\n",
    "    dt: float\n",
    "        The timestep length\n",
    "    \n",
    "    Returns\n",
    "    -------\n",
    "    ndarray of floats:\n",
    "        New velocities of the particles in a single dimension\n",
    "    \"\"\"\n",
    "    return v + 0.5 * (a + a1) * dt\n",
    "\n",
    "def init_velocity(T, number_of_particles):\n",
    "    \"\"\"\n",
    "    Initialise the velocities for a series of particles.\n",
    "    \n",
    "    Parameters\n",
    "    ----------\n",
    "    T: float\n",
    "        Temperature of the system at initialisation\n",
    "    number_of_particles: int\n",
    "        Number of particles in the system\n",
    "    \n",
    "    Returns\n",
    "    -------\n",
    "    ndarray of floats\n",
    "        Initial velocities for a series of particles\n",
    "    \"\"\"\n",
    "    R = np.random.rand(number_of_particles) - 0.5\n",
    "    return R * np.sqrt(Boltzmann * T / mass_of_argon_kg)\n",
    "\n",
    "def run_md(dt, number_of_steps, initial_temp, x, box_length):\n",
    "    \"\"\"\n",
    "    Run a MD simulation.\n",
    "    \n",
    "    Parameters\n",
    "    ----------\n",
    "    dt: float\n",
    "        The timestep length\n",
    "    number_of_steps: int\n",
    "        Number of iterations in the simulation\n",
    "    initial_temp: float\n",
    "        Temperature of the system at initialisation\n",
    "    x: ndarray of floats\n",
    "        The initial positions of the particles in a single dimension\n",
    "    box_length: float \n",
    "        The size of the periodic cell\n",
    "        \n",
    "    Returns\n",
    "    -------\n",
    "    ndarray of floats\n",
    "        The positions for all of the particles throughout the simulation\n",
    "    \"\"\"\n",
    "    cutoff = box_length / 2.\n",
    "    positions = np.zeros((number_of_steps, 3))\n",
    "    v = init_velocity(initial_temp, 3)\n",
    "    a = get_accelerations(x, box_length, cutoff)\n",
    "    for i in range(number_of_steps):\n",
    "        x = update_pos(x, v, a, dt, box_length)\n",
    "        a1 = get_accelerations(x, box_length, cutoff)\n",
    "        v = update_velo(v, a, a1, dt)\n",
    "        a = np.array(a1)\n",
    "        positions[i, :] = x\n",
    "    return positions\n",
    "\n",
    "box_length = 5e-9\n",
    "sim_pos = run_md(1e-14, 10000, 300, np.array([1e-10, 5e-10, 1e-9]), box_length)\n",
    "    \n",
    "%matplotlib inline\n",
    "fig = plt.figure(figsize=(8, 5))\n",
    "ax = fig.add_subplot(111)\n",
    "for i in range(sim_pos.shape[1]):\n",
    "    ax.plot(sim_pos[:, i], '.', label='atom {}'.format(i))\n",
    "ax.set_ylim(0, box_length)\n",
    "ax.set_xlabel(r'Step')\n",
    "ax.set_ylabel(r'$x$-Position/m')\n",
    "ax.legend(frameon=False)\n",
    "plt.show()"
   ]
  },
  {
   "cell_type": "markdown",
   "metadata": {
    "slideshow": {
     "slide_type": "slide"
    }
   },
   "source": [
    "## Key points\n",
    "- Note that there are simplifications that are possible for MD simulations\n",
    "- The cut-off reduces the number of interactions for which the energy/force must be determined\n",
    "- The periodic boundary condition creates a pseudo-crystal of the cell being simulated"
   ]
  },
  {
   "cell_type": "code",
   "execution_count": null,
   "metadata": {},
   "outputs": [],
   "source": []
  }
 ],
 "metadata": {
  "celltoolbar": "Slideshow",
  "kernelspec": {
   "display_name": "Python 3",
   "language": "python",
   "name": "python3"
  },
  "language_info": {
   "codemirror_mode": {
    "name": "ipython",
    "version": 3
   },
   "file_extension": ".py",
   "mimetype": "text/x-python",
   "name": "python",
   "nbconvert_exporter": "python",
   "pygments_lexer": "ipython3",
   "version": "3.6.4"
  }
 },
 "nbformat": 4,
 "nbformat_minor": 2
}
