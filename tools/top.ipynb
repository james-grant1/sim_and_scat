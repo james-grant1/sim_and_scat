{
 "cells": [
  {
   "cell_type": "markdown",
   "metadata": {},
   "source": [
    "<div class=\"w3-bar w3-padding\" style=\"background-color:#50565E\">\n",
    "    <div class=\"w3-bar-item\">\n",
    "        <a href='http://pythoninchemistry.org'>\n",
    "            <img class=\"w3-image\" style=\"width:10%\" src=\"../images/python_in_chemistry.png\">\n",
    "        </a>\n",
    "    </div>\n",
    "    <div class=\"w3-bar-item\">\n",
    "        <h1 style='color:#FFFFFF;\n",
    "                   font-size:5vw;\n",
    "                   font-weight:700;\n",
    "                   font-family:-apple-system, BlinkMacSystemFont, \"Segoe UI\", Roboto, Oxygen, Ubuntu, Cantarell, \"Open Sans\", \"Helvetica Neue\", sans-serif;\n",
    "                   margin:10px 0 25px 0'> \n",
    "            pythoninchemistry \n",
    "        </h1>\n",
    "    </div>\n",
    "    <br>\n",
    "    <div class=\"w3-bar-item\">\n",
    "        <h2 style='color:#FFFFFF;\n",
    "                   font-size:1.5vw;\n",
    "                   font-weight:300;\n",
    "                   font-family:-apple-system, BlinkMacSystemFont, \"Segoe UI\", Roboto, Oxygen, Ubuntu, Cantarell, \"Open Sans\", \"Helvetica Neue\", sans-serif;'>\n",
    "            <a href=\"./00_schedule.html\">\n",
    "                The interaction between simulation and scattering\n",
    "            </a>\n",
    "        </h2>\n",
    "    </div>\n",
    "</div>"
   ]
  }
 ],
 "metadata": {
  "kernelspec": {
   "display_name": "Python [default]",
   "language": "python",
   "name": "python3"
  },
  "language_info": {
   "codemirror_mode": {
    "name": "ipython",
    "version": 3
   },
   "file_extension": ".py",
   "mimetype": "text/x-python",
   "name": "python",
   "nbconvert_exporter": "python",
   "pygments_lexer": "ipython3",
   "version": "3.7.0"
  }
 },
 "nbformat": 4,
 "nbformat_minor": 2
}
